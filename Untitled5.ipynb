{
  "nbformat": 4,
  "nbformat_minor": 0,
  "metadata": {
    "colab": {
      "provenance": [],
      "authorship_tag": "ABX9TyMbnw/tEu3mDeLmMHnwjwXq",
      "include_colab_link": true
    },
    "kernelspec": {
      "name": "python3",
      "display_name": "Python 3"
    },
    "language_info": {
      "name": "python"
    }
  },
  "cells": [
    {
      "cell_type": "markdown",
      "metadata": {
        "id": "view-in-github",
        "colab_type": "text"
      },
      "source": [
        "<a href=\"https://colab.research.google.com/github/MuhammadQasim111/NLP-HACKATHON-/blob/main/Untitled5.ipynb\" target=\"_parent\"><img src=\"https://colab.research.google.com/assets/colab-badge.svg\" alt=\"Open In Colab\"/></a>"
      ]
    },
    {
      "cell_type": "code",
      "execution_count": 1,
      "metadata": {
        "colab": {
          "base_uri": "https://localhost:8080/",
          "height": 383
        },
        "id": "lh9qcLMMDR1N",
        "outputId": "b5b7906c-8cd7-4d59-e0c0-d40592ce5258"
      },
      "outputs": [
        {
          "output_type": "error",
          "ename": "ModuleNotFoundError",
          "evalue": "No module named 'gradio'",
          "traceback": [
            "\u001b[0;31m---------------------------------------------------------------------------\u001b[0m",
            "\u001b[0;31mModuleNotFoundError\u001b[0m                       Traceback (most recent call last)",
            "\u001b[0;32m<ipython-input-1-bce27fd4a08d>\u001b[0m in \u001b[0;36m<cell line: 1>\u001b[0;34m()\u001b[0m\n\u001b[0;32m----> 1\u001b[0;31m \u001b[0;32mimport\u001b[0m \u001b[0mgradio\u001b[0m \u001b[0;32mas\u001b[0m \u001b[0mgr\u001b[0m\u001b[0;34m\u001b[0m\u001b[0;34m\u001b[0m\u001b[0m\n\u001b[0m\u001b[1;32m      2\u001b[0m \u001b[0;32mfrom\u001b[0m \u001b[0mgtts\u001b[0m \u001b[0;32mimport\u001b[0m \u001b[0mgTTS\u001b[0m\u001b[0;34m\u001b[0m\u001b[0;34m\u001b[0m\u001b[0m\n\u001b[1;32m      3\u001b[0m \u001b[0;32mimport\u001b[0m \u001b[0mtempfile\u001b[0m\u001b[0;34m\u001b[0m\u001b[0;34m\u001b[0m\u001b[0m\n\u001b[1;32m      4\u001b[0m \u001b[0;32mimport\u001b[0m \u001b[0mos\u001b[0m\u001b[0;34m\u001b[0m\u001b[0;34m\u001b[0m\u001b[0m\n\u001b[1;32m      5\u001b[0m \u001b[0;32mimport\u001b[0m \u001b[0mpandas\u001b[0m \u001b[0;32mas\u001b[0m \u001b[0mpd\u001b[0m\u001b[0;34m\u001b[0m\u001b[0;34m\u001b[0m\u001b[0m\n",
            "\u001b[0;31mModuleNotFoundError\u001b[0m: No module named 'gradio'",
            "",
            "\u001b[0;31m---------------------------------------------------------------------------\u001b[0;32m\nNOTE: If your import is failing due to a missing package, you can\nmanually install dependencies using either !pip or !apt.\n\nTo view examples of installing some common dependencies, click the\n\"Open Examples\" button below.\n\u001b[0;31m---------------------------------------------------------------------------\u001b[0m\n"
          ],
          "errorDetails": {
            "actions": [
              {
                "action": "open_url",
                "actionText": "Open Examples",
                "url": "/notebooks/snippets/importing_libraries.ipynb"
              }
            ]
          }
        }
      ],
      "source": [
        "import gradio as gr\n",
        "from gtts import gTTS\n",
        "import tempfile\n",
        "import os\n",
        "import pandas as pd\n",
        "import numpy as np\n",
        "import faiss\n",
        "from sentence_transformers import SentenceTransformer\n",
        "from transformers import pipeline\n",
        "import whisper\n",
        "from groq import Groq\n",
        "\n",
        "# Load data and models\n",
        "questions = pd.read_csv('non_technical_interview_questions.csv', encoding='unicode_escape')[['Question']]\n",
        "model = SentenceTransformer('sentence-transformers/all-MiniLM-L6-v2')\n",
        "question_embeddings = np.vstack([model.encode(q) for q in questions['Question']])\n",
        "dimension = question_embeddings.shape[1]\n",
        "index = faiss.IndexFlatL2(dimension)\n",
        "index.add(question_embeddings)\n",
        "generation_model = pipeline(\"text2text-generation\", model=\"google/flan-t5-large\", num_beams=1)\n",
        "client = Groq(api_key=\"GROQ_API_KEY\")\n",
        "\n",
        "# Helper functions\n",
        "def get_questions(job_title, job_description, top_k=5):\n",
        "    text = f'{job_title}: {job_description}'\n",
        "    text_embedding = model.encode(text).reshape(1, -1)\n",
        "    _, indices = index.search(text_embedding, top_k)\n",
        "    similar_questions = questions.iloc[indices[0]]\n",
        "    return similar_questions['Question'].tolist()\n",
        "\n",
        "def text_to_speech(question_text):\n",
        "    tts = gTTS(text=question_text, lang='en')\n",
        "    temp_file = tempfile.NamedTemporaryFile(delete=False, suffix=\".mp3\")\n",
        "    tts.save(temp_file.name)\n",
        "    return temp_file.name\n",
        "\n",
        "def audio_to_text(audio_file):\n",
        "    whisper_model = whisper.load_model(\"base\")\n",
        "    result = whisper_model.transcribe(audio_file)\n",
        "    return result['text']\n",
        "\n",
        "def generate_feedback_from_llm(question, user_answer):\n",
        "    response = client.chat.completions.create(\n",
        "        messages=[\n",
        "            {\n",
        "                \"role\": \"system\",\n",
        "                \"content\": (\n",
        "                    \"You are an experienced interview coach specializing in preparing candidates for real-world job interviews. \"\n",
        "                    \"Your goal is to provide concise, actionable feedback that helps the user improve their answers quickly. \"\n",
        "                    \"Please focus on the following points: \\n\"\n",
        "                    \"1. Strengths: Highlight key strengths in the candidate's answer. Focus on one or two positive aspects (e.g., problem-solving, clear communication). \\n\"\n",
        "                    \"2. Areas for Improvement: Mention one or two quick improvements, like being more concise, adding specific examples, or avoiding jargon. \\n\"\n",
        "                    \"3. What a Best Answer Looks Like: Provide a brief example of an ideal answer that addresses the same question with clarity and impact. \\n\"\n",
        "                    \"4. English Proficiency: Check for major grammar or sentence structure issues and provide quick tips for improvement. \\n\"\n",
        "                    \"5. Interview Readines: In one sentence, assess if the answer is ready for a real interview or if it needs a little more refinement. \\n\"\n",
        "                    \"6. Quick Tips: Offer practical, quick tips on how to improve the candidate’s overall interview performance. These could include advice on body language, confidence, tone, or other interview techniques.\\n\"\n",
        "                    \"Keep your feedback clear and to the point, focusing on the most impactful changes the user can make to improve their interview performance.\"\n",
        "                    \"Your feedback should always be respectful, professional, and constructive, focused on preparing the candidate to perform confidently and concisely in real-world job interviews.\"\n",
        "                )\n",
        "            },\n",
        "            {\"role\": \"user\", \"content\": f\"Question: {question}\\nAnswer: {user_answer}\\n\\nProvide feedback on the quality of the answer, noting strengths and suggestions for improvement.\"}\n",
        "        ],\n",
        "        model=\"llama3-8b-8192\",\n",
        "    )\n",
        "    return response.choices[0].message.content\n",
        "\n",
        "# Gradio app logic\n",
        "def start_interview(job_title, job_description):\n",
        "    question_queue = get_questions(job_title, job_description)\n",
        "    current_question_index = 0\n",
        "    question_audio = text_to_speech(question_queue[current_question_index])\n",
        "    return question_queue, current_question_index, question_audio\n",
        "\n",
        "def next_question(question_queue, current_question_index):\n",
        "    current_question_index += 1\n",
        "    if current_question_index < len(question_queue):\n",
        "        question_audio = text_to_speech(question_queue[current_question_index])\n",
        "    else:\n",
        "        question_audio = None\n",
        "    return current_question_index, question_audio\n",
        "\n",
        "def transcribe_and_feedback(answer_audio, question_audio):\n",
        "    question_text = audio_to_text(question_audio)\n",
        "    user_answer = audio_to_text(answer_audio)\n",
        "    feedback = generate_feedback_from_llm(question_text, user_answer)\n",
        "    return user_answer, feedback\n",
        "\n",
        "# Gradio UI components\n",
        "with gr.Blocks() as demo:\n",
        "    gr.Markdown(\"### Job Interview Practice App\")\n",
        "\n",
        "    with gr.Row():\n",
        "        job_title = gr.Textbox(label=\"Job Title\", placeholder=\"e.g., Data Scientist\")\n",
        "        job_description = gr.Textbox(label=\"Job Description\", lines=5, placeholder=\"Describe the role requirements.\")\n",
        "        start_button = gr.Button(\"Start Interview\")\n",
        "\n",
        "    with gr.Row():\n",
        "        question_audio = gr.Audio(label=\"Question\", type=\"filepath\", interactive=False)\n",
        "        next_button = gr.Button(\"Next Question\")\n",
        "\n",
        "    with gr.Row():\n",
        "        answer_audio = gr.Audio(label=\"Your Answer\", type=\"filepath\")\n",
        "\n",
        "    with gr.Row():\n",
        "        response_text = gr.Textbox(label=\"Transcription of Your Answer\", interactive=False)\n",
        "        feedback_text = gr.Textbox(label=\"Feedback\", interactive=False)\n",
        "\n",
        "    # Define workflow logic\n",
        "    question_queue = gr.State()\n",
        "    current_question_index = gr.State()\n",
        "\n",
        "    start_button.click(start_interview, [job_title, job_description], [question_queue, current_question_index, question_audio])\n",
        "    next_button.click(next_question, [question_queue, current_question_index], [current_question_index, question_audio])\n",
        "\n",
        "    # Answer transcription and feedback generation\n",
        "    answer_audio.change(transcribe_and_feedback, [answer_audio, question_audio], [response_text, feedback_text])\n",
        "\n",
        "demo.launch()"
      ]
    }
  ]
}